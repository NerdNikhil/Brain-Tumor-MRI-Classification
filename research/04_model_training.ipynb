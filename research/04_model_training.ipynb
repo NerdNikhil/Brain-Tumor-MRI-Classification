{
 "cells": [
  {
   "cell_type": "code",
   "execution_count": 1,
   "id": "baf491a2",
   "metadata": {},
   "outputs": [],
   "source": [
    "import os"
   ]
  },
  {
   "cell_type": "code",
   "execution_count": 2,
   "id": "6022be68",
   "metadata": {},
   "outputs": [
    {
     "data": {
      "text/plain": [
       "'c:\\\\Users\\\\nikhi\\\\Downloads\\\\Brain-Tumor-MRI-Classification'"
      ]
     },
     "execution_count": 2,
     "metadata": {},
     "output_type": "execute_result"
    }
   ],
   "source": [
    "os.chdir(\"../\")\n",
    "%pwd"
   ]
  },
  {
   "cell_type": "code",
   "execution_count": 3,
   "id": "21b406d4",
   "metadata": {},
   "outputs": [],
   "source": [
    "from dataclasses import dataclass\n",
    "from pathlib import Path\n",
    "\n",
    "@dataclass(frozen=True)\n",
    "class TrainingConfig:\n",
    "    root_dir : Path\n",
    "    trained_model_path:Path\n",
    "    base_model_path:Path\n",
    "    training_data:Path\n",
    "    param_epochs : int\n",
    "    param_batch_size : int\n",
    "    param_is_augmentation : bool\n",
    "    param_image_size : list\n",
    "    param_learning_rate : float\n",
    "    param_seed : int\n",
    "\n",
    "@dataclass(frozen=True)\n",
    "class PrepareCallbacksConfig:\n",
    "    root_dir: Path\n",
    "    checkpoint_model_filepath: Path\n",
    "    tensorboard_root_log_dir: Path"
   ]
  },
  {
   "cell_type": "code",
   "execution_count": 4,
   "id": "27be82eb",
   "metadata": {},
   "outputs": [],
   "source": [
    "from brainTumorMRIClassification.constants import *\n",
    "from brainTumorMRIClassification.utils.common import read_yaml, create_directories\n",
    "import tensorflow as tf\n",
    "from brainTumorMRIClassification import logger"
   ]
  },
  {
   "cell_type": "code",
   "execution_count": 5,
   "id": "aa906ac5",
   "metadata": {},
   "outputs": [],
   "source": [
    "class ConfigurationManager:\n",
    "    def __init__(self, config_filepath = CONFIG_FILE_PATH,params_filepath = PARAMS_FILE_PATH):\n",
    "        self.config = read_yaml(config_filepath)\n",
    "        self.params = read_yaml(params_filepath)\n",
    "        create_directories([self.config.artifacts_root])\n",
    "\n",
    "    def get_prepare_callbacks_config(self) -> PrepareCallbacksConfig:\n",
    "        config=self.config.prepare_callbacks\n",
    "        model_ckpt_dir = os.path.dirname(config.checkpoint_model_filepath)\n",
    "        create_directories([Path(model_ckpt_dir), Path(config.tensorboard_root_log_dir)])\n",
    "        \n",
    "        return PrepareCallbacksConfig(\n",
    "            root_dir=Path(config.root_dir),\n",
    "            checkpoint_model_filepath=Path(config.checkpoint_model_filepath),\n",
    "            tensorboard_root_log_dir=Path(config.tensorboard_root_log_dir)\n",
    "        )\n",
    "    \n",
    "    def get_training_config(self)->TrainingConfig:\n",
    "        training=self.config.training\n",
    "        prepare_base_model=self.config.prepare_base_model\n",
    "        params=self.params\n",
    "        training_data = os.path.join(self.config.data_ingestion.unzip_dir)\n",
    "        create_directories([Path(training.root_dir)])\n",
    "\n",
    "        return TrainingConfig(\n",
    "            root_dir=Path(training.root_dir),\n",
    "            trained_model_path=Path(training.trained_model_path),\n",
    "            base_model_path=Path(prepare_base_model.base_model_path),\n",
    "            training_data=Path(training_data),\n",
    "            param_epochs=params.EPOCHS,\n",
    "            param_batch_size=params.BATCH_SIZE,\n",
    "            param_is_augmentation=params.AUGMENTATION,\n",
    "            param_image_size=params.IMAGE_SIZE,\n",
    "            param_learning_rate=params.LEARNING_RATE,\n",
    "            param_seed=params.SEED\n",
    "        )\n",
    "\n"
   ]
  },
  {
   "cell_type": "code",
   "execution_count": 6,
   "id": "55b8a0b7",
   "metadata": {},
   "outputs": [],
   "source": [
    "\n",
    "class PrepareCallback:\n",
    "    def __init__(self, config: PrepareCallbacksConfig):\n",
    "        self.config = config\n",
    "\n",
    "\n",
    "    @property\n",
    "    def _create_early_stopping(self):\n",
    "        return tf.keras.callbacks.EarlyStopping(\n",
    "            monitor='loss',\n",
    "            min_delta=1e-9,\n",
    "            patience=8,\n",
    "            verbose=True\n",
    "        )\n",
    "\n",
    "    @property\n",
    "    def _create_reduce_lr(self):\n",
    "        return tf.keras.callbacks.ReduceLROnPlateau(\n",
    "            monitor='val_loss',\n",
    "            factor=0.3,\n",
    "            patience=5,\n",
    "            verbose=True\n",
    "        )\n",
    "\n",
    "    def get_all_callbacks(self):\n",
    "        return [\n",
    "            self._create_early_stopping,\n",
    "            self._create_reduce_lr\n",
    "        ]\n"
   ]
  },
  {
   "cell_type": "code",
   "execution_count": 7,
   "id": "1dc7e787",
   "metadata": {},
   "outputs": [],
   "source": [
    "class Training:\n",
    "    def __init__(self, config: TrainingConfig):\n",
    "        self.config = config\n",
    "\n",
    "    def get_base_model(self):\n",
    "        self.model = tf.keras.models.load_model(\n",
    "            self.config.base_model_path\n",
    "        )\n",
    "        self.model.compile(\n",
    "            optimizer = tf.keras.optimizers.Adam(learning_rate=self.config.param_learning_rate, beta_1=0.869, beta_2=0.995),\n",
    "            loss=tf.keras.losses.CategoricalCrossentropy(),\n",
    "            metrics=['accuracy']\n",
    "        )\n",
    "\n",
    "    def train_valid_generator(self):\n",
    "        train_dir = os.path.join(self.config.training_data, \"Training\")\n",
    "        test_dir = os.path.join(self.config.training_data, \"Testing\")\n",
    "        image_size = self.config.param_image_size\n",
    "        target_size = tuple(image_size[:2])  # Only height and width for flow_from_directory\n",
    "        batch_size = self.config.param_batch_size\n",
    "        SEED = self.config.param_seed\n",
    "        from tensorflow.keras.preprocessing.image import ImageDataGenerator\n",
    "        # Data augmentation and preprocessing for training\n",
    "        train_datagen = ImageDataGenerator(\n",
    "            rescale=1./255,\n",
    "            rotation_range=10,\n",
    "            brightness_range=(0.85, 1.15),\n",
    "            width_shift_range=0.002,\n",
    "            height_shift_range=0.002,\n",
    "            shear_range=12.5,\n",
    "            zoom_range=0,\n",
    "            horizontal_flip=True,\n",
    "            vertical_flip=False,\n",
    "            fill_mode=\"nearest\"\n",
    "        )\n",
    "        self.train_generator = train_datagen.flow_from_directory(\n",
    "            train_dir,\n",
    "            target_size=target_size,\n",
    "            batch_size=batch_size,\n",
    "            class_mode=\"categorical\",\n",
    "            seed=SEED\n",
    "        )\n",
    "\n",
    "        # No augmentation for test data, just rescaling\n",
    "        test_datagen = ImageDataGenerator(rescale=1./255)\n",
    "        self.valid_generator = test_datagen.flow_from_directory(\n",
    "            test_dir,\n",
    "            target_size=target_size,\n",
    "            batch_size=batch_size,\n",
    "            class_mode=\"categorical\",\n",
    "            shuffle=False,\n",
    "            seed=SEED\n",
    "        )\n",
    "\n",
    "    @staticmethod\n",
    "    def save_model(path: Path, model: tf.keras.Model):\n",
    "        model.save(path)\n",
    "        logger.info(f\"Model saved at {path}\")\n",
    "\n",
    "    def train(self, callback_list: list):\n",
    "        self.steps_per_epoch = self.train_generator.samples // self.train_generator.batch_size\n",
    "        self.validation_steps = self.valid_generator.samples // self.valid_generator.batch_size\n",
    "\n",
    "        logger.info(\"Training Started\")\n",
    "        self.model.fit(\n",
    "            self.train_generator,\n",
    "            epochs=self.config.param_epochs,\n",
    "            steps_per_epoch=self.steps_per_epoch,\n",
    "            validation_data=self.valid_generator,\n",
    "            validation_steps=self.validation_steps,\n",
    "            callbacks=callback_list\n",
    "        )\n",
    "\n",
    "        self.save_model(\n",
    "            path=self.config.trained_model_path,\n",
    "            model=self.model\n",
    "        )\n"
   ]
  },
  {
   "cell_type": "code",
   "execution_count": null,
   "id": "ac0c6d13",
   "metadata": {},
   "outputs": [
    {
     "name": "stdout",
     "output_type": "stream",
     "text": [
      "[2025-08-26 15:56:20,971] : INFO : common : YAML file config\\config.yaml loaded successfully.\n",
      "[2025-08-26 15:56:20,976] : INFO : common : YAML file params.yaml loaded successfully.\n",
      "[2025-08-26 15:56:20,978] : INFO : common : Created directory: artifacts\n",
      "[2025-08-26 15:56:20,980] : INFO : common : Created directory: artifacts\\prepare_callbacks\\checkpoint_dir\n",
      "[2025-08-26 15:56:20,985] : INFO : common : Created directory: artifacts\\prepare_callbacks\\tensorboard_log_dir\n",
      "[2025-08-26 15:56:20,987] : INFO : common : Created directory: artifacts\\training\n",
      "[2025-08-26 15:56:21,207] : WARNING : saving_utils : Compiled the loaded model, but the compiled metrics have yet to be built. `model.compile_metrics` will be empty until you train or evaluate the model.\n",
      "Found 5712 images belonging to 4 classes.\n",
      "Found 1311 images belonging to 4 classes.\n",
      "[2025-08-26 15:56:21,393] : INFO : 763540678 : Training Started\n"
     ]
    },
    {
     "name": "stderr",
     "output_type": "stream",
     "text": [
      "c:\\Users\\nikhi\\Downloads\\Brain-Tumor-MRI-Classification\\venv\\Lib\\site-packages\\keras\\src\\trainers\\data_adapters\\py_dataset_adapter.py:121: UserWarning: Your `PyDataset` class should call `super().__init__(**kwargs)` in its constructor. `**kwargs` can include `workers`, `use_multiprocessing`, `max_queue_size`. Do not pass these arguments to `fit()`, as they will be ignored.\n",
      "  self._warn_if_super_not_called()\n"
     ]
    },
    {
     "name": "stdout",
     "output_type": "stream",
     "text": [
      "Epoch 1/40\n"
     ]
    }
   ],
   "source": [
    "try:\n",
    "    config=ConfigurationManager()\n",
    "    prepare_callbacks_config=config.get_prepare_callbacks_config()\n",
    "    prepare_callbacks = PrepareCallback(config=prepare_callbacks_config)\n",
    "    callbacks_list = prepare_callbacks.get_all_callbacks()\n",
    "\n",
    "    training_config=config.get_training_config()\n",
    "    training=Training(config=training_config)\n",
    "    training.get_base_model()\n",
    "    training.train_valid_generator()\n",
    "    training.train(callback_list=callbacks_list)\n",
    "except Exception as e:\n",
    "    raise e\n"
   ]
  },
  {
   "cell_type": "code",
   "execution_count": null,
   "id": "c94ddbc5",
   "metadata": {},
   "outputs": [],
   "source": []
  }
 ],
 "metadata": {
  "kernelspec": {
   "display_name": "venv",
   "language": "python",
   "name": "python3"
  },
  "language_info": {
   "codemirror_mode": {
    "name": "ipython",
    "version": 3
   },
   "file_extension": ".py",
   "mimetype": "text/x-python",
   "name": "python",
   "nbconvert_exporter": "python",
   "pygments_lexer": "ipython3",
   "version": "3.13.7"
  }
 },
 "nbformat": 4,
 "nbformat_minor": 5
}
